{
 "cells": [
  {
   "cell_type": "markdown",
   "metadata": {},
   "source": [
    "# Introduction to searching with APIs"
   ]
  },
  {
   "cell_type": "markdown",
   "metadata": {},
   "source": [
    "Searching for scientific articles using an API (application programming interface) allows you to extract data from publisher platforms and databases. With an API, you can create programmatic searches of a citation database, extract statistical data, or query and manipulate your results within a Notebook."
   ]
  },
  {
   "cell_type": "markdown",
   "metadata": {},
   "source": [
    "In this chapter, we will look at two APIs, CrossRef and arXiv."
   ]
  },
  {
   "cell_type": "markdown",
   "metadata": {},
   "source": [
    "## 1. What is Crossref?\n",
    "\n",
    "Crossref is a non-profit organization that helps to provides access to scientific literature. According to their [website](https://www.crossref.org/), Crossref \"makes research outputs easy to find, cite, link, and assess\". \n",
    "\n",
    "Crossref data on scientific publications essentially consists of three elements:\n",
    "<br>\n",
    "    1) Metadata about a publication\n",
    "    <br>\n",
    "    2) A URL link to the article\n",
    "    <br>\n",
    "    3) A document identifier (doi)\n",
    "    <br>\n",
    "    \n",
    "At present Crossref contains information on 80 million scientific publications including articles, books and book chapters."
   ]
  },
  {
   "cell_type": "markdown",
   "metadata": {},
   "source": [
    "In the accompanying exercise, you will explore the Crossref dataset and learn to:\n",
    "* Create a topic query and explore the structure of Crossref data \n",
    "* Visualize the results of your query to determine which titles are most likely to publish articles on your query\n",
    "* Determine which articles are most cited\n",
    "* Pair multiple queries to understand topic trends"
   ]
  },
  {
   "cell_type": "markdown",
   "metadata": {},
   "source": [
    "[Find notebook here](https://github.com/EPS-Libraries-Berkeley/exercises/blob/master/Crossref%20Library%20Module.ipynb)"
   ]
  },
  {
   "cell_type": "markdown",
   "metadata": {},
   "source": [
    "## 2. What is arXiV?"
   ]
  },
  {
   "cell_type": "markdown",
   "metadata": {},
   "source": [
    "arXiV is a free e-print service and an open-access archive for scholarly articles, used often in the fields of physics, mathematics, computer science, quantitative biology, quantitative finance, statistics, electrical engineering and systems science, and economics.\n",
    "\n",
    "Searching arXiV lets you:\n",
    "- track new research and trending topics\n",
    "- find open versions of works that may be published later behind a paywall\n",
    "- understand how articles are versioned and updated"
   ]
  }
 ],
 "metadata": {
  "kernelspec": {
   "display_name": "Python 3",
   "language": "python",
   "name": "python3"
  },
  "language_info": {
   "codemirror_mode": {
    "name": "ipython",
    "version": 3
   },
   "file_extension": ".py",
   "mimetype": "text/x-python",
   "name": "python",
   "nbconvert_exporter": "python",
   "pygments_lexer": "ipython3",
   "version": "3.7.6"
  }
 },
 "nbformat": 4,
 "nbformat_minor": 4
}
