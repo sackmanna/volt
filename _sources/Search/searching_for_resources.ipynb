{
 "cells": [
  {
   "cell_type": "markdown",
   "metadata": {},
   "source": [
    "# Searching for resources"
   ]
  },
  {
   "cell_type": "markdown",
   "metadata": {},
   "source": [
    "The Libraries provide access to a variety of resources listed below. In Engineering and Physical Sciences topics, you are most likely to encounter books and journal articles, but many other resources may be relevant to your work. "
   ]
  },
  {
   "cell_type": "markdown",
   "metadata": {},
   "source": [
    "![Start Your Search](images/information_landscape.jpg)"
   ]
  },
  {
   "cell_type": "markdown",
   "metadata": {},
   "source": [
    "## Start your search\n",
    "\n",
    "The **Start your search** tool helps students search across the Berkeley collections with one search box. This is a great place to start if you have no idea where to start looking. It searches for books, articles, book reviews, newspaper articles, and more.\n",
    "\n",
    "What's included in **Start your search**:\n",
    "- OskiCat\n",
    "- Most major article databases - Web of Science, Academic Search Complete, INSPEC, JSTOR and more...\n",
    "\n",
    "What's *not* included:\n",
    "- Melvyl (other UC campuses)\n",
    "- SciFinder (main Chemistry/Chemical Engineering database)\n",
    "- Many market research/business databases\n"
   ]
  },
  {
   "cell_type": "markdown",
   "metadata": {},
   "source": [
    "![Start Your Search](images/start_your_search.png)"
   ]
  },
  {
   "cell_type": "markdown",
   "metadata": {},
   "source": [
    "Find the **Start your search** box in the middle of the library homepage shown above, or in the upper left of Subject Library pages:"
   ]
  },
  {
   "cell_type": "markdown",
   "metadata": {},
   "source": [
    "![Start Your Search](images/start_your_search_small.png)"
   ]
  },
  {
   "cell_type": "markdown",
   "metadata": {},
   "source": [
    "Once you enter your search query, you'll see results displayed similar to the image below. Use the filters on the left to refine your results according to date, language and availability."
   ]
  },
  {
   "cell_type": "markdown",
   "metadata": {},
   "source": [
    "![Start Your Search](images/start_your_search_filters.png)"
   ]
  },
  {
   "cell_type": "markdown",
   "metadata": {},
   "source": [
    "In the next section, you will have the opportunity to explore article databases."
   ]
  },
  {
   "cell_type": "code",
   "execution_count": null,
   "metadata": {},
   "outputs": [],
   "source": []
  }
 ],
 "metadata": {
  "kernelspec": {
   "display_name": "Python 3",
   "language": "python",
   "name": "python3"
  },
  "language_info": {
   "codemirror_mode": {
    "name": "ipython",
    "version": 3
   },
   "file_extension": ".py",
   "mimetype": "text/x-python",
   "name": "python",
   "nbconvert_exporter": "python",
   "pygments_lexer": "ipython3",
   "version": "3.7.6"
  }
 },
 "nbformat": 4,
 "nbformat_minor": 4
}
