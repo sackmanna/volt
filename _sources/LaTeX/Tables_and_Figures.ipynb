{
 "cells": [
  {
   "cell_type": "markdown",
   "metadata": {},
   "source": [
    "# Tables and Figures"
   ]
  },
  {
   "cell_type": "markdown",
   "metadata": {},
   "source": [
    "*Objective: Learn the basic commands to create and edit tables.*"
   ]
  },
  {
   "cell_type": "markdown",
   "metadata": {},
   "source": [
    "## Tables"
   ]
  },
  {
   "cell_type": "markdown",
   "metadata": {},
   "source": [
    "Basic tables can be created with a combination of the commands below and the **use package**: `tabularx`"
   ]
  },
  {
   "cell_type": "markdown",
   "metadata": {},
   "source": [
    "|Basic Commands|Description|\n",
    "|-----||\n",
    "|`l, r, c` | column alignment|\n",
    "|`&` |ampersand separates columns|\n",
    "| `\\\\` | double backslash begins new row|\n",
    "| `\\hline` |horizontal line|\n",
    "| \\| |\tvertical line|"
   ]
  },
  {
   "cell_type": "markdown",
   "metadata": {},
   "source": [
    "### Example 1: two column table"
   ]
  },
  {
   "cell_type": "markdown",
   "metadata": {},
   "source": [
    "![Basic](images/tables_basic.png)"
   ]
  },
  {
   "cell_type": "markdown",
   "metadata": {},
   "source": [
    "### Example 2: vertical and horizontal lines are added"
   ]
  },
  {
   "cell_type": "markdown",
   "metadata": {},
   "source": [
    "![Lines](images/tables_lines.png)"
   ]
  },
  {
   "cell_type": "markdown",
   "metadata": {},
   "source": [
    "### Example 3: With caption and centering\n",
    "\n",
    "Note the addition the `\\caption` and `\\centering` commands."
   ]
  },
  {
   "cell_type": "markdown",
   "metadata": {},
   "source": [
    "![Caption](images/tables_caption.png)"
   ]
  },
  {
   "cell_type": "markdown",
   "metadata": {},
   "source": [
    "### *Exercise 1*\n",
    "\n",
    "Use the `tabularx` package to create a simple table of the US Women’s Soccer Team’s 2019 World Cup Starting Roster: [https://www.ussoccer.com/players](https://www.ussoccer.com/players)\n",
    "\n",
    "Begin with a header row and two columns.\n",
    "* Your two column headers will be: Position and Last Name – Left align the text of the left column\n",
    "* Center the text of the right column\n",
    "* Add vertical and horizontal lines\n",
    "\n",
    "Add a caption “2019 Team Roster” and center the table.  \n",
    "Note: Using the `\\caption{}` command will add the phrase “Table 1” in front of caption.\n",
    "\n",
    "Use package needed: `tabularx`\n",
    "\n",
    "Commands needed:  \n",
    "`&` = column separator  \n",
    "`\\\\` = begin new row  \n",
    "`l, r, c` = column alignment  "
   ]
  },
  {
   "cell_type": "markdown",
   "metadata": {},
   "source": [
    "| Position | Last Name |\n",
    "|-|-|\n",
    "| GK | Naeher |\n",
    "| D | Sauerbrunn |\n",
    "| D | Dahlkemper |\n",
    "| D | O’Hara |\n",
    "| D | Dunn |\n",
    "| M | Mewis |\n",
    "| M | Ertz |\n"
   ]
  },
  {
   "cell_type": "markdown",
   "metadata": {},
   "source": [
    "### *Exercise 2*"
   ]
  },
  {
   "cell_type": "markdown",
   "metadata": {},
   "source": [
    "Create a table like the one below with columns spanning multiple rows or rows spanning multiple columns."
   ]
  },
  {
   "cell_type": "markdown",
   "metadata": {},
   "source": [
    "![Multiple Columns](images/tables_multi.png)"
   ]
  },
  {
   "cell_type": "markdown",
   "metadata": {},
   "source": [
    "*Questions?*  \n",
    "Consult the answer key in the Overleaf Project to troubleshoot: [https://www.overleaf.com/read/vkpyvmhgzsgm](https://www.overleaf.com/read/vkpyvmhgzsgm)"
   ]
  },
  {
   "cell_type": "markdown",
   "metadata": {},
   "source": [
    "Information sources:  \n",
    "\n",
    "- Roster: [https://www.ussoccer.com/players](https://www.ussoccer.com/players)\n",
    "- Tables info: [https://en.wikibooks.org/wiki/LaTeX/Tables](https://en.wikibooks.org/wiki/LaTeX/Tables)\n",
    "- Multicolumn/Multirow: [https://en.wikibooks.org/wiki/LaTeX/Tables](https://en.wikibooks.org/wiki/LaTeX/Tables)"
   ]
  },
  {
   "cell_type": "markdown",
   "metadata": {},
   "source": [
    "## Figures"
   ]
  },
  {
   "cell_type": "markdown",
   "metadata": {},
   "source": [
    "*Objective:* Learn to upload and position figures in Overleaf.  \n",
    "\n",
    "### *Exercise 1: Upload a figure*\n",
    "\n",
    "1. To upload image, choose an image of your own, or find file at: [https://github.com/samteplitzky/EPS-Latex-Workshop](https://github.com/samteplitzky/EPS-Latex-Workshop)\n",
    "2. Download keyboard_cat.png, and upload file to the Overleaf project.\n",
    "3. Place image with these commands:   \n",
    "`\\usepackage{graphicx}`  \n",
    "`\\includegraphics[width=0.4\\textwidth]{keyboard_cat}`"
   ]
  },
  {
   "cell_type": "markdown",
   "metadata": {},
   "source": [
    "![cat](images/keyboard_cat.png)"
   ]
  },
  {
   "cell_type": "markdown",
   "metadata": {},
   "source": [
    "###  Figure Placement "
   ]
  },
  {
   "cell_type": "markdown",
   "metadata": {},
   "source": [
    "|Specifier|Permission|\n",
    "|----|----|\n",
    "|h|Place the float here: approximately, not exactly, at the same point it occurs in the source text|\n",
    "|t|Position at the top of the page|\n",
    "|b|Position at the bottom of the page|\n",
    "|p|Put on a special page for floats only|\n",
    "|!|Override internal parameters LaTeX uses for determining \"good\" float positions|\n",
    "|H|Places the float at precisely the location in the LaTeX code. Requires the float package. This is somewhat equivalent to h!|"
   ]
  },
  {
   "cell_type": "markdown",
   "metadata": {},
   "source": [
    "### *Exercise 2: Designate figure position*\n",
    "Use b, t, h to see where figure moves. You might need to add additional text in the document to see how the figure placement varies."
   ]
  },
  {
   "cell_type": "markdown",
   "metadata": {},
   "source": [
    "`\\begin{figure}[b]`  \n",
    "`\\centering`    \n",
    "`\\includegraphics[width=0.6\\textwidth]{keyboard_cat}`   \n",
    "`\\end{figure}`"
   ]
  },
  {
   "cell_type": "markdown",
   "metadata": {},
   "source": [
    "### Syncing and Uploading figures hosted elsewhere\n",
    "\n",
    "Google Drive: [https://www.overleaf.com/help/247-how-can-i-upload-files-from-google-drive#.W4WtwhPwZE5](https://www.overleaf.com/help/247-how-can-i-upload-files-from-google-drive#.W4WtwhPwZE5)  \n",
    "GitHub/Dropbox: [https://www.overleaf.com/help/343#.W4WtgxPwZE4](https://www.overleaf.com/help/343#.W4WtgxPwZE4)  \n"
   ]
  },
  {
   "cell_type": "code",
   "execution_count": null,
   "metadata": {},
   "outputs": [],
   "source": []
  }
 ],
 "metadata": {
  "kernelspec": {
   "display_name": "Python 3",
   "language": "python",
   "name": "python3"
  },
  "language_info": {
   "codemirror_mode": {
    "name": "ipython",
    "version": 3
   },
   "file_extension": ".py",
   "mimetype": "text/x-python",
   "name": "python",
   "nbconvert_exporter": "python",
   "pygments_lexer": "ipython3",
   "version": "3.7.6"
  }
 },
 "nbformat": 4,
 "nbformat_minor": 4
}
