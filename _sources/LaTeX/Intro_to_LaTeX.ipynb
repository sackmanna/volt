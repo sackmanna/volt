{
 "cells": [
  {
   "cell_type": "markdown",
   "metadata": {},
   "source": [
    "# Introduction to Latex"
   ]
  },
  {
   "cell_type": "markdown",
   "metadata": {},
   "source": [
    "## What is LaTeX?\n",
    "\n",
    "LaTeX is a typesetting system that allows you to focus on your content instead of formatting - formatting is done separately from entry.\n",
    "\n",
    "You tell LaTeX “what it is” not “how it looks.\"\n",
    "\n",
    "The following sections will introduce you to:\n",
    "- creating and editing basic documents in Overleaf\n",
    "- creating tables, and inserting figures and images into your document\n",
    "- using mathematical notation in LaTeX\n",
    "- inserting citations and creating bibliographies"
   ]
  },
  {
   "cell_type": "code",
   "execution_count": null,
   "metadata": {},
   "outputs": [],
   "source": []
  }
 ],
 "metadata": {
  "kernelspec": {
   "display_name": "Python 3",
   "language": "python",
   "name": "python3"
  },
  "language_info": {
   "codemirror_mode": {
    "name": "ipython",
    "version": 3
   },
   "file_extension": ".py",
   "mimetype": "text/x-python",
   "name": "python",
   "nbconvert_exporter": "python",
   "pygments_lexer": "ipython3",
   "version": "3.8.3"
  }
 },
 "nbformat": 4,
 "nbformat_minor": 4
}
