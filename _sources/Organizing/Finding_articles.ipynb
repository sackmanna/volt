{
 "cells": [
  {
   "cell_type": "markdown",
   "metadata": {},
   "source": [
    "# Finding articles"
   ]
  },
  {
   "cell_type": "markdown",
   "metadata": {},
   "source": [
    "Streamline your research and writing workflows by adopting reference management software (sometimes known as citation management software). These tools can help you organize, annotate, tag your readings and share with research partners. When you're ready to write they can automatically generate in-text citations and bibliographies in many different styles.  "
   ]
  },
  {
   "cell_type": "markdown",
   "metadata": {},
   "source": [
    "## Reference management software"
   ]
  },
  {
   "cell_type": "markdown",
   "metadata": {},
   "source": [
    "* [Zotero](https://guides.lib.berkeley.edu/zotero)\n",
    "* [Mendeley](https://guides.lib.berkeley.edu/mendeley)\n",
    "* [EndNote](https://guides.lib.berkeley.edu/endnote)\n",
    "* [Refworks](https://guides.lib.berkeley.edu/newrefworks)"
   ]
  },
  {
   "cell_type": "markdown",
   "metadata": {},
   "source": [
    "<style>\n",
    ".responsive-wrap iframe{ max-width: 100%;}\n",
    "</style>\n",
    "<div class=\"responsive-wrap\">\n",
    "<!-- this is the embed code provided by Google -->\n",
    "<iframe src=\"https://docs.google.com/presentation/d/e/2PACX-1vR6w1m9rBBNbDVyo-qJk8ccP5PcXlUDw3rn4P4_-5z5O80qOc0VQfDhWpSBovmlDxpxR-WW46hpN8f9/embed?start=false&loop=false&delayms=10000\" frameborder=\"0\" width=\"960\" height=\"500\" allowfullscreen=\"true\" mozallowfullscreen=\"true\" webkitallowfullscreen=\"true\"></iframe>\n",
    "<!-- Google embed ends -->\n",
    "</div>\n"
   ]
  },
  {
   "cell_type": "markdown",
   "metadata": {},
   "source": [
    "## Choosing a tool"
   ]
  },
  {
   "cell_type": "markdown",
   "metadata": {},
   "source": [
    "Below are some things to consider when choosing a tool; some tools may be better suited than others depending on your needs. No matter what you choose, be assured that it is fairly easy to export your library and import to another tool if you change your mind (though you may loose notes attached to specific records). \n",
    "* What does your lab / PI / Advisor use? (perhaps the most important question)\n",
    "* Do you write collaboratively with others?\n",
    "* What word processing software do you use for writing?\n",
    "* Will you need to work offline?"
   ]
  },
  {
   "cell_type": "markdown",
   "metadata": {},
   "source": [
    "## Exercise 1: Getting started with Zotero"
   ]
  },
  {
   "cell_type": "markdown",
   "metadata": {},
   "source": [
    "Let's get some practice with reference management software by completing a few basic exercises. We'll use [Zotero](https://www.zotero.org/), a free open-source tool. You'll mainly be working with the desktop client; however, Zotero also has a web interface that you can sync."
   ]
  },
  {
   "cell_type": "markdown",
   "metadata": {},
   "source": [
    "1. Go to [www.zotero.org](https://www.zotero.org/) and follow the instructions to download the software and set up an account.\n",
    "2. Install the Zotero Connector in your browser(s) of choice. \n",
    "3. Open the Zotero Desktop App."
   ]
  },
  {
   "cell_type": "markdown",
   "metadata": {},
   "source": [
    "## Exercise 2: Import citations from Google Scholar"
   ]
  },
  {
   "cell_type": "markdown",
   "metadata": {},
   "source": [
    "Let's start by building your library.\n",
    "1. Go to scholar.google.com and run a search (example: eastern fox squirrel)\n",
    "2. Click on the Zotero Connector icon in your browser\n",
    "3. Select the items that you want to add to your library\n",
    "4. Check that the downloaded bibliographic information is correct\n"
   ]
  }
 ],
 "metadata": {
  "kernelspec": {
   "display_name": "Python 3",
   "language": "python",
   "name": "python3"
  },
  "language_info": {
   "codemirror_mode": {
    "name": "ipython",
    "version": 3
   },
   "file_extension": ".py",
   "mimetype": "text/x-python",
   "name": "python",
   "nbconvert_exporter": "python",
   "pygments_lexer": "ipython3",
   "version": "3.7.1"
  }
 },
 "nbformat": 4,
 "nbformat_minor": 2
}
