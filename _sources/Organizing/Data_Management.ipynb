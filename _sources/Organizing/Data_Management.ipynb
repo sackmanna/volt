{
 "cells": [
  {
   "cell_type": "markdown",
   "metadata": {},
   "source": [
    "# Data Management"
   ]
  },
  {
   "cell_type": "markdown",
   "metadata": {},
   "source": [
    "Data management is the care and maintenance of the data that is produced during the course of research. It is an integral part of the research process and helps to ensure that data is properly organized, described, preserved, and shared."
   ]
  },
  {
   "cell_type": "markdown",
   "metadata": {},
   "source": [
    "1. Properly managed data and research outputs save time, money, and effort. \n"
   ]
  },
  {
   "cell_type": "markdown",
   "metadata": {},
   "source": [
    "2. Data management is required by funding agencies and publishers."
   ]
  },
  {
   "cell_type": "markdown",
   "metadata": {},
   "source": [
    "3. Well-managed data aids in making your work reproducible."
   ]
  },
  {
   "cell_type": "markdown",
   "metadata": {},
   "source": [
    "Think of your research in three phases: "
   ]
  },
  {
   "cell_type": "markdown",
   "metadata": {},
   "source": [
    "## Before research begins: \n",
    "\n",
    "A data management plan is a formal document that outlines: \n",
    "\n",
    "* research workflow and information about the data that will be generated, collected, or reused\n",
    "research output format, metadata, access and sharing policies, long-term storage, and budget \n",
    "* Creating a data management plan will save you time by creating a clear structure for organizing your data throughout the research life cycle, and ensures that you and others will be able to use and understand your data in the future. "
   ]
  },
  {
   "cell_type": "markdown",
   "metadata": {},
   "source": [
    "Resource for getting started: \n",
    "* use the <a href=\"https://dmptool.org\" target=\"_top\">DMPTool</a> to write a data management plan that meets funder and institutional requirements. "
   ]
  },
  {
   "cell_type": "markdown",
   "metadata": {},
   "source": [
    "## During your research:"
   ]
  },
  {
   "cell_type": "markdown",
   "metadata": {},
   "source": [
    "Set up and document workflows to ensure that data and other research outputs are secure. This includes properly backing up, protecting, and archiving data. \n",
    "\n",
    "Start by following the 3-2-1 rule: \n",
    "\n",
    "* Store **three** copies of data at **two** different locations with **one** copy in the cloud (or offsite) \n",
    "* Some research data may also fall under restricted or confidential categories, and it is critical that proper policy compliance is both taken and recorded. \n",
    "\n",
    "Resource for getting started: \n",
    "\n",
    "* check out the <a href=\"https://researchdata.berkeley.edu/services/active-data-management\" target=\"_top\">active research data guidance grid</a> to learn more about data types and storage options at UC Berkeley. "
   ]
  },
  {
   "cell_type": "markdown",
   "metadata": {},
   "source": [
    "## After your research: "
   ]
  },
  {
   "cell_type": "markdown",
   "metadata": {},
   "source": [
    "Upon completion of a project, select an archival data repository to publish your research data outputs. Repositories ensure that your data will be stored and can be accessed for future use, either by you or other researchers. Publishers and funding institutions have guidelines to address data access and archiving through using trusted data repositories that ensure long term archiving and discoverability. \n",
    "\n",
    "By properly archiving data and other outputs, research is more likely to be cited, reused, and discovered in search engines."
   ]
  },
  {
   "cell_type": "markdown",
   "metadata": {},
   "source": [
    "Resource for getting started:"
   ]
  },
  {
   "cell_type": "markdown",
   "metadata": {},
   "source": [
    "* explore <a href=\"https://datadryad.org/stash\" target=\"_top\">Dryad</a>, the University of California's data publication service and repository."
   ]
  },
  {
   "cell_type": "markdown",
   "metadata": {},
   "source": [
    "## More information"
   ]
  },
  {
   "cell_type": "markdown",
   "metadata": {},
   "source": [
    "UC Berkeley's <a href=\"https://researchdata.berkeley.edu\" target=\"_top\">Research Data Management Program</a> is available to consult before, during and after on your research on writing data management plans, encryption and security, metadata enrichment, data publishing and sharing, analysis and workflows, and more. Consultants provide individual and group consultations and training for researchers in all disciplines. \n",
    "\n",
    "Get in touch with us on our website or via email at researchdata@berkeley.edu"
   ]
  },
  {
   "cell_type": "code",
   "execution_count": null,
   "metadata": {},
   "outputs": [],
   "source": []
  }
 ],
 "metadata": {
  "kernelspec": {
   "display_name": "Python 3",
   "language": "python",
   "name": "python3"
  },
  "language_info": {
   "codemirror_mode": {
    "name": "ipython",
    "version": 3
   },
   "file_extension": ".py",
   "mimetype": "text/x-python",
   "name": "python",
   "nbconvert_exporter": "python",
   "pygments_lexer": "ipython3",
   "version": "3.7.6"
  }
 },
 "nbformat": 4,
 "nbformat_minor": 2
}
